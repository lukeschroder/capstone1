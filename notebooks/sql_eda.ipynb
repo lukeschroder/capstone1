{
 "cells": [
  {
   "cell_type": "markdown",
   "id": "fallen-authentication",
   "metadata": {},
   "source": [
    "# Notebook to display some exploratory data analysis through the use of sparkSql queries"
   ]
  },
  {
   "cell_type": "markdown",
   "id": "homeless-gather",
   "metadata": {},
   "source": [
    "### run this install if import from create dataframes notebook not working\n",
    "pip install ipynb"
   ]
  },
  {
   "cell_type": "markdown",
   "id": "clinical-biodiversity",
   "metadata": {},
   "source": [
    "## Notebook imports"
   ]
  },
  {
   "cell_type": "code",
   "execution_count": 1,
   "id": "urban-romania",
   "metadata": {},
   "outputs": [],
   "source": [
    "from ipynb.fs.full.create_dataframes import *"
   ]
  },
  {
   "cell_type": "code",
   "execution_count": null,
   "id": "affiliated-hartford",
   "metadata": {},
   "outputs": [],
   "source": []
  },
  {
   "cell_type": "markdown",
   "id": "built-colorado",
   "metadata": {},
   "source": [
    "## If name = main block"
   ]
  },
  {
   "cell_type": "code",
   "execution_count": 2,
   "id": "incorrect-control",
   "metadata": {},
   "outputs": [],
   "source": [
    "if __name__ == '__main__':\n",
    "    spark = start_session()\n",
    "    sc = add_context(spark)"
   ]
  },
  {
   "cell_type": "code",
   "execution_count": 3,
   "id": "complex-holmes",
   "metadata": {},
   "outputs": [],
   "source": [
    "if __name__ == '__main__':\n",
    "    df_artist_features = create_artist_features_df(spark)\n",
    "    df_playlists = create_playlists_df(spark)\n",
    "    df_tracks = create_tracks_df(spark)\n",
    "    df_joined = create_joined_df(spark)\n"
   ]
  },
  {
   "cell_type": "code",
   "execution_count": 4,
   "id": "manufactured-corner",
   "metadata": {},
   "outputs": [
    {
     "name": "stdout",
     "output_type": "stream",
     "text": [
      "root\n",
      " |-- artists: string (nullable = true)\n",
      " |-- acousticness: float (nullable = true)\n",
      " |-- danceability: float (nullable = true)\n",
      " |-- duration_ms: float (nullable = true)\n",
      " |-- energy: float (nullable = true)\n",
      " |-- instrumentalness: float (nullable = true)\n",
      " |-- liveness: float (nullable = true)\n",
      " |-- loudness: float (nullable = true)\n",
      " |-- speechiness: float (nullable = true)\n",
      " |-- tempo: float (nullable = true)\n",
      " |-- valence: float (nullable = true)\n",
      " |-- popularity: float (nullable = true)\n",
      " |-- key: long (nullable = true)\n",
      " |-- mode: long (nullable = true)\n",
      " |-- count: long (nullable = true)\n",
      "\n",
      "+--------------------+------------+------------+-----------+----------+----------------+----------+----------+-----------+---------+----------+----------+---+----+-----+\n",
      "|             artists|acousticness|danceability|duration_ms|    energy|instrumentalness|  liveness|  loudness|speechiness|    tempo|   valence|popularity|key|mode|count|\n",
      "+--------------------+------------+------------+-----------+----------+----------------+----------+----------+-----------+---------+----------+----------+---+----+-----+\n",
      "|\"\"\"Cats\"\" 1981 Or...|      0.5985|      0.4701|   267072.0|  0.376203|     0.010260876|   0.28305|  -14.4343|    0.20915| 114.1288|   0.35832|      38.2|  5|   1|   10|\n",
      "|\"\"\"Cats\"\" 1983 Br...|  0.86253846|  0.44173077|   287280.0| 0.4068077|     0.081158265|0.31521538|    -10.69| 0.17621154|103.04415|0.26886538| 31.538462|  5|   1|   26|\n",
      "|\"\"\"Fiddler On The...|  0.85657144|   0.3482857|   328920.0|0.28657144|      0.02459295|0.32578573|-15.230714|0.118514284|77.375854|0.35485715|  34.57143|  0|   1|    7|\n",
      "|\"\"\"Fiddler On The...|   0.8849259|  0.42507407|  262890.97|0.24577036|     0.073587276| 0.2754815| -15.63937|     0.1232| 88.66763|0.37202963| 34.407406|  0|   1|   27|\n",
      "|\"\"\"Joseph And The...|   0.5107143|  0.46714285|  270436.16|0.48828572|     0.009400291|     0.195|-10.236714|0.098542854|122.83585| 0.4822857|      42.0|  5|   1|    7|\n",
      "+--------------------+------------+------------+-----------+----------+----------------+----------+----------+-----------+---------+----------+----------+---+----+-----+\n",
      "only showing top 5 rows\n",
      "\n"
     ]
    }
   ],
   "source": [
    "if __name__ == '__main__':\n",
    "    df_artist_features.printSchema()\n",
    "    df_artist_features.show(5)"
   ]
  },
  {
   "cell_type": "code",
   "execution_count": 5,
   "id": "departmental-nature",
   "metadata": {},
   "outputs": [
    {
     "name": "stdout",
     "output_type": "stream",
     "text": [
      "root\n",
      " |-- collaborative: string (nullable = true)\n",
      " |-- description: string (nullable = true)\n",
      " |-- duration_ms: long (nullable = true)\n",
      " |-- modified_at: long (nullable = true)\n",
      " |-- name: string (nullable = true)\n",
      " |-- num_albums: long (nullable = true)\n",
      " |-- num_artists: long (nullable = true)\n",
      " |-- num_edits: long (nullable = true)\n",
      " |-- num_followers: long (nullable = true)\n",
      " |-- num_tracks: long (nullable = true)\n",
      " |-- pid: long (nullable = true)\n",
      "\n",
      "+-------------+-----------+-----------+-----------+----------------+----------+-----------+---------+-------------+----------+---+\n",
      "|collaborative|description|duration_ms|modified_at|            name|num_albums|num_artists|num_edits|num_followers|num_tracks|pid|\n",
      "+-------------+-----------+-----------+-----------+----------------+----------+-----------+---------+-------------+----------+---+\n",
      "|        false|       null|   11532414| 1493424000|      Throwbacks|        47|         37|        6|            1|        52|  0|\n",
      "|        false|       null|   11656470| 1506556800|Awesome Playlist|        23|         21|        5|            1|        39|  1|\n",
      "|        false|       null|   14039958| 1505692800|         korean |        51|         31|       18|            1|        64|  2|\n",
      "|        false|       null|   28926058| 1501027200|             mat|       107|         86|        4|            1|       126|  3|\n",
      "|        false|       null|    4335282| 1401667200|             90s|        16|         16|        7|            2|        17|  4|\n",
      "+-------------+-----------+-----------+-----------+----------------+----------+-----------+---------+-------------+----------+---+\n",
      "only showing top 5 rows\n",
      "\n"
     ]
    }
   ],
   "source": [
    "if __name__ == '__main__':\n",
    "    df_playlists.printSchema()\n",
    "    df_playlists.show(5)"
   ]
  },
  {
   "cell_type": "code",
   "execution_count": 6,
   "id": "asian-vermont",
   "metadata": {},
   "outputs": [
    {
     "name": "stdout",
     "output_type": "stream",
     "text": [
      "root\n",
      " |-- album_name: string (nullable = true)\n",
      " |-- album_uri: string (nullable = true)\n",
      " |-- artist_name: string (nullable = true)\n",
      " |-- artist_uri: string (nullable = true)\n",
      " |-- duration_ms: long (nullable = true)\n",
      " |-- pos: long (nullable = true)\n",
      " |-- track_name: string (nullable = true)\n",
      " |-- track_uri: string (nullable = true)\n",
      " |-- playlist_description: string (nullable = true)\n",
      " |-- playlist_name: string (nullable = true)\n",
      " |-- pid: long (nullable = true)\n",
      " |-- playlist_followers: long (nullable = true)\n",
      "\n",
      "+--------------------+--------------------+-----------------+--------------------+-----------+---+--------------------+--------------------+--------------------+-------------+---+------------------+\n",
      "|          album_name|           album_uri|      artist_name|          artist_uri|duration_ms|pos|          track_name|           track_uri|playlist_description|playlist_name|pid|playlist_followers|\n",
      "+--------------------+--------------------+-----------------+--------------------+-----------+---+--------------------+--------------------+--------------------+-------------+---+------------------+\n",
      "|        The Cookbook|spotify:album:6vV...|    Missy Elliott|spotify:artist:2w...|     226863|  0|Lose Control (fea...|spotify:track:0Ua...|                null|   Throwbacks|  0|                 1|\n",
      "|         In The Zone|spotify:album:0z7...|   Britney Spears|spotify:artist:26...|     198800|  1|               Toxic|spotify:track:6I9...|                null|   Throwbacks|  0|                 1|\n",
      "|Dangerously In Lo...|spotify:album:25h...|          Beyoncé|spotify:artist:6v...|     235933|  2|       Crazy In Love|spotify:track:0Wq...|                null|   Throwbacks|  0|                 1|\n",
      "|           Justified|spotify:album:6QP...|Justin Timberlake|spotify:artist:31...|     267266|  3|      Rock Your Body|spotify:track:1AW...|                null|   Throwbacks|  0|                 1|\n",
      "|            Hot Shot|spotify:album:6Nm...|           Shaggy|spotify:artist:5E...|     227600|  4|        It Wasn't Me|spotify:track:1lz...|                null|   Throwbacks|  0|                 1|\n",
      "+--------------------+--------------------+-----------------+--------------------+-----------+---+--------------------+--------------------+--------------------+-------------+---+------------------+\n",
      "only showing top 5 rows\n",
      "\n"
     ]
    }
   ],
   "source": [
    "if __name__ == '__main__':\n",
    "    df_tracks.printSchema()\n",
    "    df_tracks.show(5)"
   ]
  },
  {
   "cell_type": "code",
   "execution_count": 7,
   "id": "secure-economy",
   "metadata": {},
   "outputs": [
    {
     "name": "stdout",
     "output_type": "stream",
     "text": [
      "root\n",
      " |-- artist_name: string (nullable = true)\n",
      " |-- pid: long (nullable = true)\n",
      " |-- pos: long (nullable = true)\n",
      " |-- playlist_name: string (nullable = true)\n",
      " |-- playlist_followers: long (nullable = true)\n",
      " |-- acousticness: float (nullable = true)\n",
      " |-- danceability: float (nullable = true)\n",
      " |-- energy: float (nullable = true)\n",
      " |-- instrumentalness: float (nullable = true)\n",
      " |-- liveness: float (nullable = true)\n",
      " |-- loudness: float (nullable = true)\n",
      " |-- speechiness: float (nullable = true)\n",
      " |-- avg_tempo: float (nullable = true)\n",
      " |-- valence: float (nullable = true)\n",
      " |-- popularity: float (nullable = true)\n",
      "\n",
      "+-----------------+---+---+-------------+------------------+------------+------------+----------+----------------+----------+----------+-----------+----------+----------+----------+\n",
      "|      artist_name|pid|pos|playlist_name|playlist_followers|acousticness|danceability|    energy|instrumentalness|  liveness|  loudness|speechiness| avg_tempo|   valence|popularity|\n",
      "+-----------------+---+---+-------------+------------------+------------+------------+----------+----------------+----------+----------+-----------+----------+----------+----------+\n",
      "|    Missy Elliott|  0|  0|   Throwbacks|                 1|  0.18308528|   0.7934906| 0.5953585|     0.009623934|0.14886604| -8.521415| 0.20579812|108.858116|0.62360376| 51.962265|\n",
      "|   Britney Spears|  0|  1|   Throwbacks|                 1|  0.17926398|  0.70914817| 0.7662716|    0.0040700575|0.21475309|-5.0316544| 0.06614198| 116.04304|0.70360494|  60.60494|\n",
      "|          Beyoncé|  0|  2|   Throwbacks|                 1|  0.15112422|   0.6095352|0.63125354|      0.00239817|0.20988451|-6.7884154| 0.16339226| 122.71787|0.47907746| 58.239437|\n",
      "|Justin Timberlake|  0|  3|   Throwbacks|                 1|  0.20091648|  0.68901354|0.63372976|     0.006919188|0.21337973|-6.5236487|0.108032435| 106.94962| 0.5813919|  60.12162|\n",
      "|           Shaggy|  0|  4|   Throwbacks|                 1|  0.17556545|      0.8205| 0.6800909|     6.114536E-4|0.22428636| -7.445909| 0.17461364|126.447685|0.71736366|  48.18182|\n",
      "+-----------------+---+---+-------------+------------------+------------+------------+----------+----------------+----------+----------+-----------+----------+----------+----------+\n",
      "only showing top 5 rows\n",
      "\n"
     ]
    }
   ],
   "source": [
    "if __name__ == '__main__':\n",
    "    df_joined.printSchema()\n",
    "    df_joined.show(5)"
   ]
  }
 ],
 "metadata": {
  "kernelspec": {
   "display_name": "Python 3",
   "language": "python",
   "name": "python3"
  },
  "language_info": {
   "codemirror_mode": {
    "name": "ipython",
    "version": 3
   },
   "file_extension": ".py",
   "mimetype": "text/x-python",
   "name": "python",
   "nbconvert_exporter": "python",
   "pygments_lexer": "ipython3",
   "version": "3.8.6"
  }
 },
 "nbformat": 4,
 "nbformat_minor": 5
}
